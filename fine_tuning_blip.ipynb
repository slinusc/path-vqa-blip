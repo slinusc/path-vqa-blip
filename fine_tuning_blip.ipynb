{
 "cells": [
  {
   "cell_type": "code",
   "execution_count": null,
   "metadata": {
    "id": "UsYVcRi3YV5W"
   },
   "outputs": [],
   "source": [
    "!pip install datasets"
   ]
  },
  {
   "cell_type": "markdown",
   "metadata": {
    "id": "hJ0wd0bjngDf"
   },
   "source": [
    "### Training of BLIP on Path-VQA"
   ]
  },
  {
   "cell_type": "markdown",
   "metadata": {
    "id": "XrIsf-FEn_bk"
   },
   "source": [
    "Importing all relevant packages"
   ]
  },
  {
   "cell_type": "code",
   "execution_count": null,
   "metadata": {
    "id": "-6lhWBFnn-i3"
   },
   "outputs": [],
   "source": [
    "from datasets import load_dataset\n",
    "import torch\n",
    "import io\n",
    "import pickle\n",
    "import pandas as pd\n",
    "from transformers import BlipProcessor, BlipForQuestionAnswering\n",
    "from torch.utils.data import DataLoader\n",
    "from tqdm import tqdm\n",
    "from PIL import Image"
   ]
  },
  {
   "cell_type": "markdown",
   "metadata": {
    "id": "oPXIwTsVoEER"
   },
   "source": [
    "Preparing data for training"
   ]
  },
  {
   "cell_type": "code",
   "execution_count": null,
   "metadata": {
    "id": "oZZJ8RtBXsBT"
   },
   "outputs": [],
   "source": [
    "# Load the dataset\n",
    "dataset = load_dataset(\"flaviagiammarino/path-vqa\")\n",
    "\n",
    "# Custom dataset class\n",
    "class VQADataset(torch.utils.data.Dataset):\n",
    "    \"\"\"VQA dataset.\"\"\"\n",
    "\n",
    "    def __init__(self, dataframe, processor):\n",
    "        self.dataframe = dataframe\n",
    "        self.processor = processor\n",
    "\n",
    "    def __len__(self):\n",
    "        return len(self.dataframe)\n",
    "\n",
    "    def __getitem__(self, idx):\n",
    "        # Get question and answer\n",
    "        question = self.dataframe.iloc[idx]['question']\n",
    "        answer = self.dataframe.iloc[idx]['answer']\n",
    "        image_bytes = self.dataframe.iloc[idx]['image']['bytes']\n",
    "        image = Image.open(io.BytesIO(image_bytes)).convert(\"RGB\")\n",
    "\n",
    "        # Process the image and question\n",
    "        encoding = self.processor(image, question, padding=\"max_length\", truncation=True, return_tensors=\"pt\")\n",
    "\n",
    "        # Tokenize the answer\n",
    "        labels = self.processor.tokenizer.encode(\n",
    "            answer, max_length=8, padding=\"max_length\", truncation=True, return_tensors='pt'\n",
    "        )\n",
    "        encoding[\"labels\"] = labels\n",
    "        encoding[\"attention_mask\"] = encoding[\"attention_mask\"]\n",
    "\n",
    "        # Remove batch dimension\n",
    "        for k, v in encoding.items():\n",
    "            encoding[k] = v.squeeze()\n",
    "\n",
    "        return encoding\n",
    "\n",
    "# Converting the dataset to pandas DataFrame\n",
    "train_df = dataset['train'].to_pandas()\n",
    "val_df = dataset['validation'].to_pandas()\n",
    "\n",
    "# Filtering the yes/no questions\n",
    "train_df = train_df[train_df['answer'].str.lower().isin(['yes', 'no'])].reset_index(drop=True)\n",
    "val_df = val_df[val_df['answer'].str.lower().isin(['yes', 'no'])].reset_index(drop=True)"
   ]
  },
  {
   "cell_type": "markdown",
   "metadata": {
    "id": "YSE_nyhhoNC1"
   },
   "source": [
    "Preparing the training setup"
   ]
  },
  {
   "cell_type": "code",
   "execution_count": null,
   "metadata": {
    "id": "5JgKUV9LoMJb"
   },
   "outputs": [],
   "source": [
    "# Initialize model and processor\n",
    "model = BlipForQuestionAnswering.from_pretrained(\"Salesforce/blip-vqa-base\")\n",
    "processor = BlipProcessor.from_pretrained(\"Salesforce/blip-vqa-base\")\n",
    "\n",
    "# Define the device\n",
    "device = torch.device(\"cuda\" if torch.cuda.is_available() else \"cpu\")\n",
    "model.to(device)\n",
    "\n",
    "# Empty cache and set manual seed\n",
    "torch.cuda.empty_cache()\n",
    "torch.manual_seed(42)\n",
    "\n",
    "# Creating datasets and dataloaders\n",
    "train_dataset = VQADataset(dataframe=train_df, processor=processor)\n",
    "valid_dataset = VQADataset(dataframe=val_df, processor=processor)\n",
    "\n",
    "batch_size = 8 # Max batch size for one A100 with 40GB VRAM\n",
    "train_dataloader = DataLoader(train_dataset, batch_size=batch_size, shuffle=True, pin_memory=True)\n",
    "valid_dataloader = DataLoader(valid_dataset, batch_size=batch_size, shuffle=False, pin_memory=True)\n",
    "\n",
    "# Defining optimizer and scheduler\n",
    "optimizer = torch.optim.AdamW(model.parameters(), lr=4e-5)\n",
    "scheduler = torch.optim.lr_scheduler.ExponentialLR(optimizer, gamma=0.9, last_epoch=-1, verbose=False)\n",
    "\n",
    "# Training settings\n",
    "num_epochs = 10\n",
    "patience = 5\n",
    "min_eval_loss = float(\"inf\")\n",
    "early_stopping_hook = 0\n",
    "tracking_information = []\n",
    "scaler = torch.cuda.amp.GradScaler()\n",
    "\n",
    "# Training loop\n",
    "for epoch in range(num_epochs):\n",
    "    epoch_loss = 0\n",
    "    model.train()\n",
    "    for batch in tqdm(train_dataloader, desc='Training batch: ...'):\n",
    "        input_ids = batch.pop('input_ids').to(device)\n",
    "        pixel_values = batch.pop('pixel_values').to(device)\n",
    "        attention_mask = batch.pop('attention_mask').to(device)\n",
    "        labels = batch.pop('labels').to(device)\n",
    "\n",
    "        with torch.amp.autocast(device_type='cuda', dtype=torch.float16):\n",
    "            outputs = model(input_ids=input_ids,\n",
    "                            pixel_values=pixel_values,\n",
    "                            attention_mask=attention_mask,\n",
    "                            labels=labels)\n",
    "\n",
    "        loss = outputs.loss\n",
    "        epoch_loss += loss.item()\n",
    "        optimizer.zero_grad()\n",
    "\n",
    "        scaler.scale(loss).backward()\n",
    "        scaler.step(optimizer)\n",
    "        scaler.update()\n",
    "\n",
    "    model.eval()\n",
    "    eval_loss = 0\n",
    "    for batch in tqdm(valid_dataloader, desc='Validating batch: ...'):\n",
    "        input_ids = batch.pop('input_ids').to(device)\n",
    "        pixel_values = batch.pop('pixel_values').to(device)\n",
    "        attention_mask = batch.pop('attention_mask').to(device)\n",
    "        labels = batch.pop('labels').to(device)\n",
    "\n",
    "        with torch.amp.autocast(device_type='cuda', dtype=torch.float16):\n",
    "            outputs = model(input_ids=input_ids,\n",
    "                            pixel_values=pixel_values,\n",
    "                            attention_mask=attention_mask,\n",
    "                            labels=labels)\n",
    "\n",
    "        loss = outputs.loss\n",
    "        eval_loss += loss.item()\n",
    "\n",
    "    tracking_information.append((epoch_loss/len(train_dataloader), eval_loss/len(valid_dataloader), optimizer.param_groups[0][\"lr\"]))\n",
    "    print(\"Epoch: {} - Training loss: {} - Eval Loss: {}\".format(epoch+1, epoch_loss/len(train_dataloader), eval_loss/len(valid_dataloader)))\n",
    "    scheduler.step()\n",
    "\n",
    "    # saving model with lowest validation loss\n",
    "    if eval_loss < min_eval_loss:\n",
    "        model.save_pretrained(\"Model/blip-saved-model\")\n",
    "        print(\"Saved model to Model/blip-saved-model\")\n",
    "        min_eval_loss = eval_loss\n",
    "        early_stopping_hook = 0\n",
    "    else:\n",
    "        early_stopping_hook += 1\n",
    "        if early_stopping_hook > patience:\n",
    "            break\n",
    "\n",
    "# saving training information\n",
    "pickle.dump(tracking_information, open(\"tracking_information.pkl\", \"wb\"))\n",
    "print(\"The finetuning process is done!\")"
   ]
  },
  {
   "cell_type": "markdown",
   "metadata": {
    "id": "70WHHESPpQdH"
   },
   "source": [
    "Plotting train and eval loss"
   ]
  },
  {
   "cell_type": "code",
   "execution_count": null,
   "metadata": {
    "colab": {
     "base_uri": "https://localhost:8080/",
     "height": 552
    },
    "executionInfo": {
     "elapsed": 825,
     "status": "ok",
     "timestamp": 1716218782267,
     "user": {
      "displayName": "Linus Stuhlmann",
      "userId": "07279173608860907824"
     },
     "user_tz": -120
    },
    "id": "nZzwyJ5niVFw",
    "outputId": "bf958614-4d05-4f1e-f9cc-1cc925b64d03"
   },
   "outputs": [
    {
     "data": {
      "image/png": "[encoded data removed]",
      "text/plain": [
       "<Figure size 1200x600 with 1 Axes>"
      ]
     },
     "metadata": {},
     "output_type": "display_data"
    }
   ],
   "source": [
    "import matplotlib.pyplot as plt\n",
    "import pandas as pd\n",
    "\n",
    "df = pd.read_csv(\"/content/drive/MyDrive/Patho_VQA/final_tracking_information_10_e.csv\")\n",
    "\n",
    "# Extracting the training loss, validation loss, and learning rate\n",
    "train_loss = df['train_loss']\n",
    "val_loss = df['validation_loss']\n",
    "\n",
    "# Plotting the training and validation loss with x-axis starting at 1\n",
    "plt.figure(figsize=(12, 6))\n",
    "plt.plot(range(1, len(train_loss) + 1), train_loss, label='Training Loss')\n",
    "plt.plot(range(1, len(val_loss) + 1), val_loss, label='Validation Loss')\n",
    "plt.xlabel('Epoch')\n",
    "plt.ylabel('Loss')\n",
    "plt.title('Training and Validation Loss over Epochs')\n",
    "plt.legend()\n",
    "plt.grid(True)\n",
    "plt.show()\n"
   ]
  },
  {
   "cell_type": "markdown",
   "metadata": {
    "id": "n-vONygNoZmD"
   },
   "source": [
    "Saving fine-tuned model"
   ]
  },
  {
   "cell_type": "code",
   "execution_count": null,
   "metadata": {
    "id": "0MAVI7-Fidga"
   },
   "outputs": [],
   "source": [
    "model.save_pretrained(\"Model/blip-saved-model_final\")"
   ]
  },
  {
   "cell_type": "markdown",
   "metadata": {
    "id": "lU1AKQ1Ho0c7"
   },
   "source": [
    "### Inference on Path_VQA test set\n",
    "\n",
    "Doing inference on Path_VQA test set using the latest model and writing predictions and labels into csv."
   ]
  },
  {
   "cell_type": "code",
   "execution_count": null,
   "metadata": {
    "id": "eZ8cHjV3nByc"
   },
   "outputs": [],
   "source": [
    "from transformers import BlipProcessor, BlipForQuestionAnswering\n",
    "from PIL import Image\n",
    "import pandas as pd\n",
    "import csv\n",
    "import os\n",
    "import torch\n",
    "from tqdm import tqdm\n",
    "from datasets import load_dataset\n",
    "import io\n",
    "\n",
    "# Initialize processor and model\n",
    "processor = BlipProcessor.from_pretrained(\"Salesforce/blip-vqa-base\")\n",
    "model = BlipForQuestionAnswering.from_pretrained(\"/content/drive/MyDrive/Patho_VQA/blip-saved-model_final\").to(\"cuda\")\n",
    "\n",
    "dataset = load_dataset(\"flaviagiammarino/path-vqa\")\n",
    "\n",
    "# Convert the test dataset to pandas DataFrame and filter yes/no answers\n",
    "test_df = dataset['test'].to_pandas()\n",
    "test_df = test_df[test_df['answer'].str.lower().isin(['yes', 'no'])].reset_index(drop=True)\n",
    "\n",
    "# Create a list to store the results\n",
    "results = []\n",
    "\n",
    "# Iterate through each row in the test DataFrame\n",
    "for idx, row in tqdm(test_df.iterrows(), total=test_df.shape[0], desc=\"Processing\"):\n",
    "    question = row['question']\n",
    "    image_bytes = row['image']['bytes']\n",
    "    image = Image.open(io.BytesIO(image_bytes)).convert(\"RGB\")\n",
    "    actual_answer = row['answer']\n",
    "\n",
    "    # Prepare inputs\n",
    "    encoding = processor(images=image, text=question, return_tensors=\"pt\").to(\"cuda\")\n",
    "\n",
    "    # Perform inference\n",
    "    out = model.generate(**encoding)\n",
    "    generated_text = processor.decode(out[0], skip_special_tokens=True)\n",
    "\n",
    "    # Append results using the index as the identifier\n",
    "    results.append((idx, actual_answer, generated_text))\n",
    "\n",
    "# Write the results to a CSV file\n",
    "csv_file_path = \"/content/drive/MyDrive/Patho_VQA/results_final.csv\"\n",
    "os.makedirs(os.path.dirname(csv_file_path), exist_ok=True)\n",
    "with open(csv_file_path, mode=\"w\", newline=\"\") as csv_file:\n",
    "    csv_writer = csv.writer(csv_file)\n",
    "    csv_writer.writerow([\"ID\", \"Actual Answer\", \"Generated Answer\"])  # Write header\n",
    "    csv_writer.writerows(results)\n",
    "\n",
    "print(f\"Results saved to {csv_file_path}\")\n"
   ]
  },
  {
   "cell_type": "markdown",
   "metadata": {
    "id": "xsViFizrpKCs"
   },
   "source": [
    "### Evaluation\n",
    "\n",
    "Evaluating test"
   ]
  },
  {
   "cell_type": "code",
   "execution_count": null,
   "metadata": {
    "colab": {
     "base_uri": "https://localhost:8080/"
    },
    "executionInfo": {
     "elapsed": 5,
     "status": "ok",
     "timestamp": 1716220045694,
     "user": {
      "displayName": "Linus Stuhlmann",
      "userId": "07279173608860907824"
     },
     "user_tz": -120
    },
    "id": "Fi9ZeK4XqXOY",
    "outputId": "1607c3cb-7fca-43f8-a262-5731b5f849f3"
   },
   "outputs": [
    {
     "name": "stdout",
     "output_type": "stream",
     "text": [
      "Accuracy: 0.8554\n",
      "Precision: 0.8560\n",
      "Recall: 0.8805\n",
      "F1 Score: 0.8681\n"
     ]
    }
   ],
   "source": [
    "import pandas as pd\n",
    "from sklearn.metrics import accuracy_score, precision_score, recall_score, f1_score\n",
    "\n",
    "def calculate_metrics(csv_file_path):\n",
    "    # Load the CSV file\n",
    "    results_df = pd.read_csv(csv_file_path)\n",
    "\n",
    "    # Ensure the labels are consistent\n",
    "    results_df['Actual Answer'] = results_df['Actual Answer'].str.strip().str.lower()\n",
    "    results_df['Generated Answer'] = results_df['Generated Answer'].str.strip().str.lower()\n",
    "\n",
    "    # Convert answers to binary labels\n",
    "    actual_labels = results_df['Actual Answer'].apply(lambda x: 1 if x == 'yes' else 0)\n",
    "    generated_labels = results_df['Generated Answer'].apply(lambda x: 1 if x == 'yes' else 0)\n",
    "\n",
    "    # Calculate metrics\n",
    "    accuracy = accuracy_score(actual_labels, generated_labels)\n",
    "    precision = precision_score(actual_labels, generated_labels, zero_division=0)\n",
    "    recall = recall_score(actual_labels, generated_labels, zero_division=0)\n",
    "    f1 = f1_score(actual_labels, generated_labels, zero_division=0)\n",
    "\n",
    "    return accuracy, precision, recall, f1\n",
    "\n",
    "csv_file_path = \"/content/drive/MyDrive/Patho_VQA/results_final.csv\"\n",
    "accuracy, precision, recall, f1 = calculate_metrics(csv_file_path)\n",
    "\n",
    "print(f\"Accuracy: {accuracy:.4f}\")\n",
    "print(f\"Precision: {precision:.4f}\")\n",
    "print(f\"Recall: {recall:.4f}\")\n",
    "print(f\"F1 Score: {f1:.4f}\")"
   ]
  },
  {
   "cell_type": "markdown",
   "metadata": {
    "id": "3bUqQFfUz530"
   },
   "source": [
    "Evaluating BLIP without fine-tuning in this task"
   ]
  },
  {
   "cell_type": "code",
   "execution_count": null,
   "metadata": {
    "colab": {
     "base_uri": "https://localhost:8080/"
    },
    "executionInfo": {
     "elapsed": 307,
     "status": "ok",
     "timestamp": 1716222617542,
     "user": {
      "displayName": "Linus Stuhlmann",
      "userId": "07279173608860907824"
     },
     "user_tz": -120
    },
    "id": "PayqVy1M1t_H",
    "outputId": "93f3d19c-f4dd-4ec7-bbbc-b828e455687c"
   },
   "outputs": [
    {
     "name": "stdout",
     "output_type": "stream",
     "text": [
      "Results saved to results/results_no_finetuning.csv\n"
     ]
    }
   ],
   "source": [
    "from transformers import BlipProcessor, BlipForQuestionAnswering\n",
    "from PIL import Image\n",
    "import pandas as pd\n",
    "import csv\n",
    "import os\n",
    "import torch\n",
    "from tqdm import tqdm\n",
    "from datasets import load_dataset\n",
    "import io\n",
    "\n",
    "# Initialize processor and model\n",
    "processor = BlipProcessor.from_pretrained(\"Salesforce/blip-vqa-base\")\n",
    "model = BlipForQuestionAnswering.from_pretrained(\"Salesforce/blip-vqa-base\")\n",
    "\n",
    "# Move the model to GPU\n",
    "device = torch.device(\"cuda\" if torch.cuda.is_available() else \"cpu\")\n",
    "model.to(device)\n",
    "\n",
    "# Load dataset\n",
    "dataset = load_dataset(\"flaviagiammarino/path-vqa\")\n",
    "\n",
    "# Convert the test dataset to pandas DataFrame and filter yes/no answers\n",
    "test_df = dataset['test'].to_pandas()\n",
    "test_df = test_df[test_df['answer'].str.lower().isin(['yes', 'no'])].reset_index(drop=True)\n",
    "\n",
    "# Create a list to store the results\n",
    "results = []\n",
    "\n",
    "# Iterate through each row in the test DataFrame\n",
    "for idx, row in tqdm(test_df.iterrows(), total=test_df.shape[0], desc=\"Processing\"):\n",
    "    question = row['question']\n",
    "    image_bytes = row['image']['bytes']\n",
    "    image = Image.open(io.BytesIO(image_bytes)).convert(\"RGB\")\n",
    "    actual_answer = row['answer']\n",
    "\n",
    "    # Prepare inputs\n",
    "    encoding = processor(images=image, text=question, return_tensors=\"pt\").to(device)\n",
    "\n",
    "    # Perform inference\n",
    "    out = model.generate(**encoding)\n",
    "    generated_text = processor.decode(out[0], skip_special_tokens=True)\n",
    "\n",
    "    # Append results using the index as the identifier\n",
    "    results.append((idx, actual_answer, generated_text))\n",
    "\n",
    "# Write the results to a CSV file\n",
    "csv_file_path = \"results/results_no_finetuning.csv\"\n",
    "os.makedirs(os.path.dirname(csv_file_path), exist_ok=True)\n",
    "with open(csv_file_path, mode=\"w\", newline=\"\") as csv_file:\n",
    "    csv_writer = csv.writer(csv_file)\n",
    "    csv_writer.writerow([\"ID\", \"Actual Answer\", \"Generated Answer\"])\n",
    "    csv_writer.writerows(results)\n",
    "\n",
    "print(f\"Results saved to {csv_file_path}\")"
   ]
  },
  {
   "cell_type": "code",
   "execution_count": null,
   "metadata": {
    "colab": {
     "base_uri": "https://localhost:8080/"
    },
    "executionInfo": {
     "elapsed": 806,
     "status": "ok",
     "timestamp": 1716222659854,
     "user": {
      "displayName": "Linus Stuhlmann",
      "userId": "07279173608860907824"
     },
     "user_tz": -120
    },
    "id": "nEUGnwRK0Zfw",
    "outputId": "adfc8ba4-3253-419f-de36-6cbfdf5a1852"
   },
   "outputs": [
    {
     "name": "stdout",
     "output_type": "stream",
     "text": [
      "Accuracy: 0.5164\n",
      "Precision: 0.5344\n",
      "Recall: 0.8122\n",
      "F1 Score: 0.6447\n"
     ]
    }
   ],
   "source": [
    "csv_file_path = \"results/results_no_finetuning.csv\"\n",
    "accuracy, precision, recall, f1 = calculate_metrics(csv_file_path)\n",
    "\n",
    "print(f\"Accuracy: {accuracy:.4f}\")\n",
    "print(f\"Precision: {precision:.4f}\")\n",
    "print(f\"Recall: {recall:.4f}\")\n",
    "print(f\"F1 Score: {f1:.4f}\")"
   ]
  },
  {
   "cell_type": "markdown",
   "metadata": {
    "id": "hCUIMWJF35u2"
   },
   "source": [
    "### Results"
   ]
  },
  {
   "cell_type": "markdown",
   "metadata": {
    "id": "AdU4O3LG2gRD"
   },
   "source": [
    "The training significantly increased the capabilities of the base BLIP model in pathological visual question answering (yes/no questions).\n",
    "\n",
    "After fine-tuning :\n",
    "\n",
    "- Accuracy: 0.8554\n",
    "- Precision: 0.8560\n",
    "- Recall: 0.8805\n",
    "- F1 Score: 0.8681\n",
    "\n",
    "Before fine-tuning:\n",
    "\n",
    "- Accuracy: 0.5164\n",
    "- Precision: 0.5344\n",
    "- Recall: 0.8122\n",
    "- F1 Score: 0.6447\n",
    "\n",
    "Overall improvements:\n",
    "\n",
    "- Accuracy: 0.339\n",
    "- Precision: 0.3216\n",
    "- Recall: 0.0683\n",
    "- F1 Score: 0.2234"
   ]
  },
  {
   "cell_type": "markdown",
   "metadata": {
    "id": "FotbRizl9Jv8"
   },
   "source": [
    "Pushing model to Hugging Face Hub"
   ]
  },
  {
   "cell_type": "code",
   "execution_count": null,
   "metadata": {
    "colab": {
     "base_uri": "https://localhost:8080/",
     "height": 145,
     "referenced_widgets": [
      "5c1b0a3fc04c4068a7c861abf30e209a",
      "55d41b58c1444a06b6868896a8702a71",
      "1c4b604610fc4e9c80b260e480cd598e",
      "6a0cf3c80bea4510bb7107fa6f184fa0",
      "08d8e18017e14f8e8678459834187d43",
      "c58533412a4f4e77aefcd4757b9fd4d5",
      "bec16caf3bb947c1b40e2cdb9fc85002",
      "964966523e3849358cc43807e427e861",
      "c0fae7c2f370450691c0185c3b6f5a3f",
      "74a303fcc5594386a0ab8eecc75a9251",
      "4f996421f74c4b049c529fb99fafda6d",
      "1cd1a587fd9949dea29d94cb0992973c",
      "fc02898236c54c4dac9fd3cc954541cb",
      "f384997f95164e189edb52c2a0cf5fb3",
      "5181f58c3ad141d484ae1d375fead766",
      "7c80f264edc1484abdbdf02af89d21ca",
      "3b924e01dda2445caec0a09e94e53091",
      "dc7ab05c6445421a82be100ae3ca375b",
      "8b01b52735dd426ca8808bc16eba0436",
      "4f1104f1d51d427a8467a3c6deb84fb0",
      "15d7419dda37423bab1d93485466d007",
      "3dce03673e664e2d95e76a64fb373959",
      "3886e54ceba64225aacfbea8b580fa6e",
      "f24c1deed13f431aa88699edfd7a22cf",
      "71647ab536344ffebbee181a9f6c428e",
      "e2b7286d3c5c47ea9286b65e7e6e8473",
      "7333ab48beec468f9b39deafa3e64b81",
      "8dd560207cef4fcab5d235d9548289a3",
      "a19ee6385abd450892662027efc3aa22",
      "6f959b0057814f30ae9336e6d9ff422f",
      "89a4154365ff442a83bd7ea7e41817e4",
      "95084aeb390746e6bd71e54300aca9a8"
     ]
    },
    "executionInfo": {
     "elapsed": 1927,
     "status": "ok",
     "timestamp": 1716224147248,
     "user": {
      "displayName": "Linus Stuhlmann",
      "userId": "07279173608860907824"
     },
     "user_tz": -120
    },
    "id": "ONcZTcR-6yE8",
    "outputId": "13b7201f-496f-41b2-c3a7-f093ca99e3e2"
   },
   "outputs": [
    {
     "data": {
      "application/vnd.jupyter.widget-view+json": {
       "model_id": "5c1b0a3fc04c4068a7c861abf30e209a",
       "version_major": 2,
       "version_minor": 0
      },
      "text/plain": [
       "VBox(children=(HTML(value='<center> <img\\nsrc=https://huggingface.co/front/assets/huggingface_logo-noborder.sv…"
      ]
     },
     "metadata": {},
     "output_type": "display_data"
    }
   ],
   "source": [
    "from huggingface_hub import notebook_login\n",
    "\n",
    "model = BlipForQuestionAnswering.from_pretrained(\"/content/drive/MyDrive/Patho_VQA/blip-saved-model_final\")\n",
    "notebook_login()\n",
    "# Push the model to the Hugging Face Hub\n",
    "model.push_to_hub(\"slinusc/path-vqa-blip\")"
   ]
  }
 ],
 "metadata": {
  "colab": {
   "authorship_tag": "ABX9TyM3x9teGUtvXBQzTNCTstt8",
   "mount_file_id": "103EdIKjJ7h47KhbLf5F7DN4v7Hrsp0-x",
   "provenance": []
  },
  "kernelspec": {
   "display_name": "Python 3 (ipykernel)",
   "language": "python",
   "name": "python3"
  },
  "language_info": {
   "codemirror_mode": {
    "name": "ipython",
    "version": 3
   },
   "file_extension": ".py",
   "mimetype": "text/x-python",
   "name": "python",
   "nbconvert_exporter": "python",
   "pygments_lexer": "ipython3",
   "version": "3.11.5"
  },
  "widgets": {
   "application/vnd.jupyter.widget-state+json": {
    "08d8e18017e14f8e8678459834187d43": {
     "model_module": "@jupyter-widgets/controls",
     "model_module_version": "1.5.0",
     "model_name": "ButtonModel",
     "state": {
      "_dom_classes": [],
      "_model_module": "@jupyter-widgets/controls",
      "_model_module_version": "1.5.0",
      "_model_name": "ButtonModel",
      "_view_count": null,
      "_view_module": "@jupyter-widgets/controls",
      "_view_module_version": "1.5.0",
      "_view_name": "ButtonView",
      "button_style": "",
      "description": "Login",
      "disabled": false,
      "icon": "",
      "layout": "IPY_MODEL_f384997f95164e189edb52c2a0cf5fb3",
      "style": "IPY_MODEL_5181f58c3ad141d484ae1d375fead766",
      "tooltip": ""
     }
    },
    "15d7419dda37423bab1d93485466d007": {
     "model_module": "@jupyter-widgets/controls",
     "model_module_version": "1.5.0",
     "model_name": "LabelModel",
     "state": {
      "_dom_classes": [],
      "_model_module": "@jupyter-widgets/controls",
      "_model_module_version": "1.5.0",
      "_model_name": "LabelModel",
      "_view_count": null,
      "_view_module": "@jupyter-widgets/controls",
      "_view_module_version": "1.5.0",
      "_view_name": "LabelView",
      "description": "",
      "description_tooltip": null,
      "layout": "IPY_MODEL_71647ab536344ffebbee181a9f6c428e",
      "placeholder": "​",
      "style": "IPY_MODEL_e2b7286d3c5c47ea9286b65e7e6e8473",
      "value": "Token is valid (permission: write)."
     }
    },
    "1c4b604610fc4e9c80b260e480cd598e": {
     "model_module": "@jupyter-widgets/controls",
     "model_module_version": "1.5.0",
     "model_name": "PasswordModel",
     "state": {
      "_dom_classes": [],
      "_model_module": "@jupyter-widgets/controls",
      "_model_module_version": "1.5.0",
      "_model_name": "PasswordModel",
      "_view_count": null,
      "_view_module": "@jupyter-widgets/controls",
      "_view_module_version": "1.5.0",
      "_view_name": "PasswordView",
      "continuous_update": true,
      "description": "Token:",
      "description_tooltip": null,
      "disabled": false,
      "layout": "IPY_MODEL_74a303fcc5594386a0ab8eecc75a9251",
      "placeholder": "​",
      "style": "IPY_MODEL_4f996421f74c4b049c529fb99fafda6d",
      "value": ""
     }
    },
    "1cd1a587fd9949dea29d94cb0992973c": {
     "model_module": "@jupyter-widgets/base",
     "model_module_version": "1.2.0",
     "model_name": "LayoutModel",
     "state": {
      "_model_module": "@jupyter-widgets/base",
      "_model_module_version": "1.2.0",
      "_model_name": "LayoutModel",
      "_view_count": null,
      "_view_module": "@jupyter-widgets/base",
      "_view_module_version": "1.2.0",
      "_view_name": "LayoutView",
      "align_content": null,
      "align_items": null,
      "align_self": null,
      "border": null,
      "bottom": null,
      "display": null,
      "flex": null,
      "flex_flow": null,
      "grid_area": null,
      "grid_auto_columns": null,
      "grid_auto_flow": null,
      "grid_auto_rows": null,
      "grid_column": null,
      "grid_gap": null,
      "grid_row": null,
      "grid_template_areas": null,
      "grid_template_columns": null,
      "grid_template_rows": null,
      "height": null,
      "justify_content": null,
      "justify_items": null,
      "left": null,
      "margin": null,
      "max_height": null,
      "max_width": null,
      "min_height": null,
      "min_width": null,
      "object_fit": null,
      "object_position": null,
      "order": null,
      "overflow": null,
      "overflow_x": null,
      "overflow_y": null,
      "padding": null,
      "right": null,
      "top": null,
      "visibility": null,
      "width": null
     }
    },
    "3886e54ceba64225aacfbea8b580fa6e": {
     "model_module": "@jupyter-widgets/controls",
     "model_module_version": "1.5.0",
     "model_name": "LabelModel",
     "state": {
      "_dom_classes": [],
      "_model_module": "@jupyter-widgets/controls",
      "_model_module_version": "1.5.0",
      "_model_name": "LabelModel",
      "_view_count": null,
      "_view_module": "@jupyter-widgets/controls",
      "_view_module_version": "1.5.0",
      "_view_name": "LabelView",
      "description": "",
      "description_tooltip": null,
      "layout": "IPY_MODEL_a19ee6385abd450892662027efc3aa22",
      "placeholder": "​",
      "style": "IPY_MODEL_6f959b0057814f30ae9336e6d9ff422f",
      "value": "Your token has been saved to /root/.cache/huggingface/token"
     }
    },
    "3b924e01dda2445caec0a09e94e53091": {
     "model_module": "@jupyter-widgets/controls",
     "model_module_version": "1.5.0",
     "model_name": "DescriptionStyleModel",
     "state": {
      "_model_module": "@jupyter-widgets/controls",
      "_model_module_version": "1.5.0",
      "_model_name": "DescriptionStyleModel",
      "_view_count": null,
      "_view_module": "@jupyter-widgets/base",
      "_view_module_version": "1.2.0",
      "_view_name": "StyleView",
      "description_width": ""
     }
    },
    "3dce03673e664e2d95e76a64fb373959": {
     "model_module": "@jupyter-widgets/controls",
     "model_module_version": "1.5.0",
     "model_name": "LabelModel",
     "state": {
      "_dom_classes": [],
      "_model_module": "@jupyter-widgets/controls",
      "_model_module_version": "1.5.0",
      "_model_name": "LabelModel",
      "_view_count": null,
      "_view_module": "@jupyter-widgets/controls",
      "_view_module_version": "1.5.0",
      "_view_name": "LabelView",
      "description": "",
      "description_tooltip": null,
      "layout": "IPY_MODEL_7333ab48beec468f9b39deafa3e64b81",
      "placeholder": "​",
      "style": "IPY_MODEL_8dd560207cef4fcab5d235d9548289a3",
      "value": "Your token has been saved in your configured git credential helpers (store)."
     }
    },
    "4f1104f1d51d427a8467a3c6deb84fb0": {
     "model_module": "@jupyter-widgets/controls",
     "model_module_version": "1.5.0",
     "model_name": "DescriptionStyleModel",
     "state": {
      "_model_module": "@jupyter-widgets/controls",
      "_model_module_version": "1.5.0",
      "_model_name": "DescriptionStyleModel",
      "_view_count": null,
      "_view_module": "@jupyter-widgets/base",
      "_view_module_version": "1.2.0",
      "_view_name": "StyleView",
      "description_width": ""
     }
    },
    "4f996421f74c4b049c529fb99fafda6d": {
     "model_module": "@jupyter-widgets/controls",
     "model_module_version": "1.5.0",
     "model_name": "DescriptionStyleModel",
     "state": {
      "_model_module": "@jupyter-widgets/controls",
      "_model_module_version": "1.5.0",
      "_model_name": "DescriptionStyleModel",
      "_view_count": null,
      "_view_module": "@jupyter-widgets/base",
      "_view_module_version": "1.2.0",
      "_view_name": "StyleView",
      "description_width": ""
     }
    },
    "5181f58c3ad141d484ae1d375fead766": {
     "model_module": "@jupyter-widgets/controls",
     "model_module_version": "1.5.0",
     "model_name": "ButtonStyleModel",
     "state": {
      "_model_module": "@jupyter-widgets/controls",
      "_model_module_version": "1.5.0",
      "_model_name": "ButtonStyleModel",
      "_view_count": null,
      "_view_module": "@jupyter-widgets/base",
      "_view_module_version": "1.2.0",
      "_view_name": "StyleView",
      "button_color": null,
      "font_weight": ""
     }
    },
    "55d41b58c1444a06b6868896a8702a71": {
     "model_module": "@jupyter-widgets/controls",
     "model_module_version": "1.5.0",
     "model_name": "HTMLModel",
     "state": {
      "_dom_classes": [],
      "_model_module": "@jupyter-widgets/controls",
      "_model_module_version": "1.5.0",
      "_model_name": "HTMLModel",
      "_view_count": null,
      "_view_module": "@jupyter-widgets/controls",
      "_view_module_version": "1.5.0",
      "_view_name": "HTMLView",
      "description": "",
      "description_tooltip": null,
      "layout": "IPY_MODEL_964966523e3849358cc43807e427e861",
      "placeholder": "​",
      "style": "IPY_MODEL_c0fae7c2f370450691c0185c3b6f5a3f",
      "value": "<center> <img\nsrc=https://huggingface.co/front/assets/huggingface_logo-noborder.svg\nalt='Hugging Face'> <br> Copy a token from <a\nhref=\"https://huggingface.co/settings/tokens\" target=\"_blank\">your Hugging Face\ntokens page</a> and paste it below. <br> Immediately click login after copying\nyour token or it might be stored in plain text in this notebook file. </center>"
     }
    },
    "5c1b0a3fc04c4068a7c861abf30e209a": {
     "model_module": "@jupyter-widgets/controls",
     "model_module_version": "1.5.0",
     "model_name": "VBoxModel",
     "state": {
      "_dom_classes": [],
      "_model_module": "@jupyter-widgets/controls",
      "_model_module_version": "1.5.0",
      "_model_name": "VBoxModel",
      "_view_count": null,
      "_view_module": "@jupyter-widgets/controls",
      "_view_module_version": "1.5.0",
      "_view_name": "VBoxView",
      "box_style": "",
      "children": [
       "IPY_MODEL_15d7419dda37423bab1d93485466d007",
       "IPY_MODEL_3dce03673e664e2d95e76a64fb373959",
       "IPY_MODEL_3886e54ceba64225aacfbea8b580fa6e",
       "IPY_MODEL_f24c1deed13f431aa88699edfd7a22cf"
      ],
      "layout": "IPY_MODEL_bec16caf3bb947c1b40e2cdb9fc85002"
     }
    },
    "6a0cf3c80bea4510bb7107fa6f184fa0": {
     "model_module": "@jupyter-widgets/controls",
     "model_module_version": "1.5.0",
     "model_name": "CheckboxModel",
     "state": {
      "_dom_classes": [],
      "_model_module": "@jupyter-widgets/controls",
      "_model_module_version": "1.5.0",
      "_model_name": "CheckboxModel",
      "_view_count": null,
      "_view_module": "@jupyter-widgets/controls",
      "_view_module_version": "1.5.0",
      "_view_name": "CheckboxView",
      "description": "Add token as git credential?",
      "description_tooltip": null,
      "disabled": false,
      "indent": true,
      "layout": "IPY_MODEL_1cd1a587fd9949dea29d94cb0992973c",
      "style": "IPY_MODEL_fc02898236c54c4dac9fd3cc954541cb",
      "value": true
     }
    },
    "6f959b0057814f30ae9336e6d9ff422f": {
     "model_module": "@jupyter-widgets/controls",
     "model_module_version": "1.5.0",
     "model_name": "DescriptionStyleModel",
     "state": {
      "_model_module": "@jupyter-widgets/controls",
      "_model_module_version": "1.5.0",
      "_model_name": "DescriptionStyleModel",
      "_view_count": null,
      "_view_module": "@jupyter-widgets/base",
      "_view_module_version": "1.2.0",
      "_view_name": "StyleView",
      "description_width": ""
     }
    },
    "71647ab536344ffebbee181a9f6c428e": {
     "model_module": "@jupyter-widgets/base",
     "model_module_version": "1.2.0",
     "model_name": "LayoutModel",
     "state": {
      "_model_module": "@jupyter-widgets/base",
      "_model_module_version": "1.2.0",
      "_model_name": "LayoutModel",
      "_view_count": null,
      "_view_module": "@jupyter-widgets/base",
      "_view_module_version": "1.2.0",
      "_view_name": "LayoutView",
      "align_content": null,
      "align_items": null,
      "align_self": null,
      "border": null,
      "bottom": null,
      "display": null,
      "flex": null,
      "flex_flow": null,
      "grid_area": null,
      "grid_auto_columns": null,
      "grid_auto_flow": null,
      "grid_auto_rows": null,
      "grid_column": null,
      "grid_gap": null,
      "grid_row": null,
      "grid_template_areas": null,
      "grid_template_columns": null,
      "grid_template_rows": null,
      "height": null,
      "justify_content": null,
      "justify_items": null,
      "left": null,
      "margin": null,
      "max_height": null,
      "max_width": null,
      "min_height": null,
      "min_width": null,
      "object_fit": null,
      "object_position": null,
      "order": null,
      "overflow": null,
      "overflow_x": null,
      "overflow_y": null,
      "padding": null,
      "right": null,
      "top": null,
      "visibility": null,
      "width": null
     }
    },
    "7333ab48beec468f9b39deafa3e64b81": {
     "model_module": "@jupyter-widgets/base",
     "model_module_version": "1.2.0",
     "model_name": "LayoutModel",
     "state": {
      "_model_module": "@jupyter-widgets/base",
      "_model_module_version": "1.2.0",
      "_model_name": "LayoutModel",
      "_view_count": null,
      "_view_module": "@jupyter-widgets/base",
      "_view_module_version": "1.2.0",
      "_view_name": "LayoutView",
      "align_content": null,
      "align_items": null,
      "align_self": null,
      "border": null,
      "bottom": null,
      "display": null,
      "flex": null,
      "flex_flow": null,
      "grid_area": null,
      "grid_auto_columns": null,
      "grid_auto_flow": null,
      "grid_auto_rows": null,
      "grid_column": null,
      "grid_gap": null,
      "grid_row": null,
      "grid_template_areas": null,
      "grid_template_columns": null,
      "grid_template_rows": null,
      "height": null,
      "justify_content": null,
      "justify_items": null,
      "left": null,
      "margin": null,
      "max_height": null,
      "max_width": null,
      "min_height": null,
      "min_width": null,
      "object_fit": null,
      "object_position": null,
      "order": null,
      "overflow": null,
      "overflow_x": null,
      "overflow_y": null,
      "padding": null,
      "right": null,
      "top": null,
      "visibility": null,
      "width": null
     }
    },
    "74a303fcc5594386a0ab8eecc75a9251": {
     "model_module": "@jupyter-widgets/base",
     "model_module_version": "1.2.0",
     "model_name": "LayoutModel",
     "state": {
      "_model_module": "@jupyter-widgets/base",
      "_model_module_version": "1.2.0",
      "_model_name": "LayoutModel",
      "_view_count": null,
      "_view_module": "@jupyter-widgets/base",
      "_view_module_version": "1.2.0",
      "_view_name": "LayoutView",
      "align_content": null,
      "align_items": null,
      "align_self": null,
      "border": null,
      "bottom": null,
      "display": null,
      "flex": null,
      "flex_flow": null,
      "grid_area": null,
      "grid_auto_columns": null,
      "grid_auto_flow": null,
      "grid_auto_rows": null,
      "grid_column": null,
      "grid_gap": null,
      "grid_row": null,
      "grid_template_areas": null,
      "grid_template_columns": null,
      "grid_template_rows": null,
      "height": null,
      "justify_content": null,
      "justify_items": null,
      "left": null,
      "margin": null,
      "max_height": null,
      "max_width": null,
      "min_height": null,
      "min_width": null,
      "object_fit": null,
      "object_position": null,
      "order": null,
      "overflow": null,
      "overflow_x": null,
      "overflow_y": null,
      "padding": null,
      "right": null,
      "top": null,
      "visibility": null,
      "width": null
     }
    },
    "7c80f264edc1484abdbdf02af89d21ca": {
     "model_module": "@jupyter-widgets/base",
     "model_module_version": "1.2.0",
     "model_name": "LayoutModel",
     "state": {
      "_model_module": "@jupyter-widgets/base",
      "_model_module_version": "1.2.0",
      "_model_name": "LayoutModel",
      "_view_count": null,
      "_view_module": "@jupyter-widgets/base",
      "_view_module_version": "1.2.0",
      "_view_name": "LayoutView",
      "align_content": null,
      "align_items": null,
      "align_self": null,
      "border": null,
      "bottom": null,
      "display": null,
      "flex": null,
      "flex_flow": null,
      "grid_area": null,
      "grid_auto_columns": null,
      "grid_auto_flow": null,
      "grid_auto_rows": null,
      "grid_column": null,
      "grid_gap": null,
      "grid_row": null,
      "grid_template_areas": null,
      "grid_template_columns": null,
      "grid_template_rows": null,
      "height": null,
      "justify_content": null,
      "justify_items": null,
      "left": null,
      "margin": null,
      "max_height": null,
      "max_width": null,
      "min_height": null,
      "min_width": null,
      "object_fit": null,
      "object_position": null,
      "order": null,
      "overflow": null,
      "overflow_x": null,
      "overflow_y": null,
      "padding": null,
      "right": null,
      "top": null,
      "visibility": null,
      "width": null
     }
    },
    "89a4154365ff442a83bd7ea7e41817e4": {
     "model_module": "@jupyter-widgets/base",
     "model_module_version": "1.2.0",
     "model_name": "LayoutModel",
     "state": {
      "_model_module": "@jupyter-widgets/base",
      "_model_module_version": "1.2.0",
      "_model_name": "LayoutModel",
      "_view_count": null,
      "_view_module": "@jupyter-widgets/base",
      "_view_module_version": "1.2.0",
      "_view_name": "LayoutView",
      "align_content": null,
      "align_items": null,
      "align_self": null,
      "border": null,
      "bottom": null,
      "display": null,
      "flex": null,
      "flex_flow": null,
      "grid_area": null,
      "grid_auto_columns": null,
      "grid_auto_flow": null,
      "grid_auto_rows": null,
      "grid_column": null,
      "grid_gap": null,
      "grid_row": null,
      "grid_template_areas": null,
      "grid_template_columns": null,
      "grid_template_rows": null,
      "height": null,
      "justify_content": null,
      "justify_items": null,
      "left": null,
      "margin": null,
      "max_height": null,
      "max_width": null,
      "min_height": null,
      "min_width": null,
      "object_fit": null,
      "object_position": null,
      "order": null,
      "overflow": null,
      "overflow_x": null,
      "overflow_y": null,
      "padding": null,
      "right": null,
      "top": null,
      "visibility": null,
      "width": null
     }
    },
    "8b01b52735dd426ca8808bc16eba0436": {
     "model_module": "@jupyter-widgets/base",
     "model_module_version": "1.2.0",
     "model_name": "LayoutModel",
     "state": {
      "_model_module": "@jupyter-widgets/base",
      "_model_module_version": "1.2.0",
      "_model_name": "LayoutModel",
      "_view_count": null,
      "_view_module": "@jupyter-widgets/base",
      "_view_module_version": "1.2.0",
      "_view_name": "LayoutView",
      "align_content": null,
      "align_items": null,
      "align_self": null,
      "border": null,
      "bottom": null,
      "display": null,
      "flex": null,
      "flex_flow": null,
      "grid_area": null,
      "grid_auto_columns": null,
      "grid_auto_flow": null,
      "grid_auto_rows": null,
      "grid_column": null,
      "grid_gap": null,
      "grid_row": null,
      "grid_template_areas": null,
      "grid_template_columns": null,
      "grid_template_rows": null,
      "height": null,
      "justify_content": null,
      "justify_items": null,
      "left": null,
      "margin": null,
      "max_height": null,
      "max_width": null,
      "min_height": null,
      "min_width": null,
      "object_fit": null,
      "object_position": null,
      "order": null,
      "overflow": null,
      "overflow_x": null,
      "overflow_y": null,
      "padding": null,
      "right": null,
      "top": null,
      "visibility": null,
      "width": null
     }
    },
    "8dd560207cef4fcab5d235d9548289a3": {
     "model_module": "@jupyter-widgets/controls",
     "model_module_version": "1.5.0",
     "model_name": "DescriptionStyleModel",
     "state": {
      "_model_module": "@jupyter-widgets/controls",
      "_model_module_version": "1.5.0",
      "_model_name": "DescriptionStyleModel",
      "_view_count": null,
      "_view_module": "@jupyter-widgets/base",
      "_view_module_version": "1.2.0",
      "_view_name": "StyleView",
      "description_width": ""
     }
    },
    "95084aeb390746e6bd71e54300aca9a8": {
     "model_module": "@jupyter-widgets/controls",
     "model_module_version": "1.5.0",
     "model_name": "DescriptionStyleModel",
     "state": {
      "_model_module": "@jupyter-widgets/controls",
      "_model_module_version": "1.5.0",
      "_model_name": "DescriptionStyleModel",
      "_view_count": null,
      "_view_module": "@jupyter-widgets/base",
      "_view_module_version": "1.2.0",
      "_view_name": "StyleView",
      "description_width": ""
     }
    },
    "964966523e3849358cc43807e427e861": {
     "model_module": "@jupyter-widgets/base",
     "model_module_version": "1.2.0",
     "model_name": "LayoutModel",
     "state": {
      "_model_module": "@jupyter-widgets/base",
      "_model_module_version": "1.2.0",
      "_model_name": "LayoutModel",
      "_view_count": null,
      "_view_module": "@jupyter-widgets/base",
      "_view_module_version": "1.2.0",
      "_view_name": "LayoutView",
      "align_content": null,
      "align_items": null,
      "align_self": null,
      "border": null,
      "bottom": null,
      "display": null,
      "flex": null,
      "flex_flow": null,
      "grid_area": null,
      "grid_auto_columns": null,
      "grid_auto_flow": null,
      "grid_auto_rows": null,
      "grid_column": null,
      "grid_gap": null,
      "grid_row": null,
      "grid_template_areas": null,
      "grid_template_columns": null,
      "grid_template_rows": null,
      "height": null,
      "justify_content": null,
      "justify_items": null,
      "left": null,
      "margin": null,
      "max_height": null,
      "max_width": null,
      "min_height": null,
      "min_width": null,
      "object_fit": null,
      "object_position": null,
      "order": null,
      "overflow": null,
      "overflow_x": null,
      "overflow_y": null,
      "padding": null,
      "right": null,
      "top": null,
      "visibility": null,
      "width": null
     }
    },
    "a19ee6385abd450892662027efc3aa22": {
     "model_module": "@jupyter-widgets/base",
     "model_module_version": "1.2.0",
     "model_name": "LayoutModel",
     "state": {
      "_model_module": "@jupyter-widgets/base",
      "_model_module_version": "1.2.0",
      "_model_name": "LayoutModel",
      "_view_count": null,
      "_view_module": "@jupyter-widgets/base",
      "_view_module_version": "1.2.0",
      "_view_name": "LayoutView",
      "align_content": null,
      "align_items": null,
      "align_self": null,
      "border": null,
      "bottom": null,
      "display": null,
      "flex": null,
      "flex_flow": null,
      "grid_area": null,
      "grid_auto_columns": null,
      "grid_auto_flow": null,
      "grid_auto_rows": null,
      "grid_column": null,
      "grid_gap": null,
      "grid_row": null,
      "grid_template_areas": null,
      "grid_template_columns": null,
      "grid_template_rows": null,
      "height": null,
      "justify_content": null,
      "justify_items": null,
      "left": null,
      "margin": null,
      "max_height": null,
      "max_width": null,
      "min_height": null,
      "min_width": null,
      "object_fit": null,
      "object_position": null,
      "order": null,
      "overflow": null,
      "overflow_x": null,
      "overflow_y": null,
      "padding": null,
      "right": null,
      "top": null,
      "visibility": null,
      "width": null
     }
    },
    "bec16caf3bb947c1b40e2cdb9fc85002": {
     "model_module": "@jupyter-widgets/base",
     "model_module_version": "1.2.0",
     "model_name": "LayoutModel",
     "state": {
      "_model_module": "@jupyter-widgets/base",
      "_model_module_version": "1.2.0",
      "_model_name": "LayoutModel",
      "_view_count": null,
      "_view_module": "@jupyter-widgets/base",
      "_view_module_version": "1.2.0",
      "_view_name": "LayoutView",
      "align_content": null,
      "align_items": "center",
      "align_self": null,
      "border": null,
      "bottom": null,
      "display": "flex",
      "flex": null,
      "flex_flow": "column",
      "grid_area": null,
      "grid_auto_columns": null,
      "grid_auto_flow": null,
      "grid_auto_rows": null,
      "grid_column": null,
      "grid_gap": null,
      "grid_row": null,
      "grid_template_areas": null,
      "grid_template_columns": null,
      "grid_template_rows": null,
      "height": null,
      "justify_content": null,
      "justify_items": null,
      "left": null,
      "margin": null,
      "max_height": null,
      "max_width": null,
      "min_height": null,
      "min_width": null,
      "object_fit": null,
      "object_position": null,
      "order": null,
      "overflow": null,
      "overflow_x": null,
      "overflow_y": null,
      "padding": null,
      "right": null,
      "top": null,
      "visibility": null,
      "width": "50%"
     }
    },
    "c0fae7c2f370450691c0185c3b6f5a3f": {
     "model_module": "@jupyter-widgets/controls",
     "model_module_version": "1.5.0",
     "model_name": "DescriptionStyleModel",
     "state": {
      "_model_module": "@jupyter-widgets/controls",
      "_model_module_version": "1.5.0",
      "_model_name": "DescriptionStyleModel",
      "_view_count": null,
      "_view_module": "@jupyter-widgets/base",
      "_view_module_version": "1.2.0",
      "_view_name": "StyleView",
      "description_width": ""
     }
    },
    "c58533412a4f4e77aefcd4757b9fd4d5": {
     "model_module": "@jupyter-widgets/controls",
     "model_module_version": "1.5.0",
     "model_name": "HTMLModel",
     "state": {
      "_dom_classes": [],
      "_model_module": "@jupyter-widgets/controls",
      "_model_module_version": "1.5.0",
      "_model_name": "HTMLModel",
      "_view_count": null,
      "_view_module": "@jupyter-widgets/controls",
      "_view_module_version": "1.5.0",
      "_view_name": "HTMLView",
      "description": "",
      "description_tooltip": null,
      "layout": "IPY_MODEL_7c80f264edc1484abdbdf02af89d21ca",
      "placeholder": "​",
      "style": "IPY_MODEL_3b924e01dda2445caec0a09e94e53091",
      "value": "\n<b>Pro Tip:</b> If you don't already have one, you can create a dedicated\n'notebooks' token with 'write' access, that you can then easily reuse for all\nnotebooks. </center>"
     }
    },
    "dc7ab05c6445421a82be100ae3ca375b": {
     "model_module": "@jupyter-widgets/controls",
     "model_module_version": "1.5.0",
     "model_name": "LabelModel",
     "state": {
      "_dom_classes": [],
      "_model_module": "@jupyter-widgets/controls",
      "_model_module_version": "1.5.0",
      "_model_name": "LabelModel",
      "_view_count": null,
      "_view_module": "@jupyter-widgets/controls",
      "_view_module_version": "1.5.0",
      "_view_name": "LabelView",
      "description": "",
      "description_tooltip": null,
      "layout": "IPY_MODEL_8b01b52735dd426ca8808bc16eba0436",
      "placeholder": "​",
      "style": "IPY_MODEL_4f1104f1d51d427a8467a3c6deb84fb0",
      "value": "Connecting..."
     }
    },
    "e2b7286d3c5c47ea9286b65e7e6e8473": {
     "model_module": "@jupyter-widgets/controls",
     "model_module_version": "1.5.0",
     "model_name": "DescriptionStyleModel",
     "state": {
      "_model_module": "@jupyter-widgets/controls",
      "_model_module_version": "1.5.0",
      "_model_name": "DescriptionStyleModel",
      "_view_count": null,
      "_view_module": "@jupyter-widgets/base",
      "_view_module_version": "1.2.0",
      "_view_name": "StyleView",
      "description_width": ""
     }
    },
    "f24c1deed13f431aa88699edfd7a22cf": {
     "model_module": "@jupyter-widgets/controls",
     "model_module_version": "1.5.0",
     "model_name": "LabelModel",
     "state": {
      "_dom_classes": [],
      "_model_module": "@jupyter-widgets/controls",
      "_model_module_version": "1.5.0",
      "_model_name": "LabelModel",
      "_view_count": null,
      "_view_module": "@jupyter-widgets/controls",
      "_view_module_version": "1.5.0",
      "_view_name": "LabelView",
      "description": "",
      "description_tooltip": null,
      "layout": "IPY_MODEL_89a4154365ff442a83bd7ea7e41817e4",
      "placeholder": "​",
      "style": "IPY_MODEL_95084aeb390746e6bd71e54300aca9a8",
      "value": "Login successful"
     }
    },
    "f384997f95164e189edb52c2a0cf5fb3": {
     "model_module": "@jupyter-widgets/base",
     "model_module_version": "1.2.0",
     "model_name": "LayoutModel",
     "state": {
      "_model_module": "@jupyter-widgets/base",
      "_model_module_version": "1.2.0",
      "_model_name": "LayoutModel",
      "_view_count": null,
      "_view_module": "@jupyter-widgets/base",
      "_view_module_version": "1.2.0",
      "_view_name": "LayoutView",
      "align_content": null,
      "align_items": null,
      "align_self": null,
      "border": null,
      "bottom": null,
      "display": null,
      "flex": null,
      "flex_flow": null,
      "grid_area": null,
      "grid_auto_columns": null,
      "grid_auto_flow": null,
      "grid_auto_rows": null,
      "grid_column": null,
      "grid_gap": null,
      "grid_row": null,
      "grid_template_areas": null,
      "grid_template_columns": null,
      "grid_template_rows": null,
      "height": null,
      "justify_content": null,
      "justify_items": null,
      "left": null,
      "margin": null,
      "max_height": null,
      "max_width": null,
      "min_height": null,
      "min_width": null,
      "object_fit": null,
      "object_position": null,
      "order": null,
      "overflow": null,
      "overflow_x": null,
      "overflow_y": null,
      "padding": null,
      "right": null,
      "top": null,
      "visibility": null,
      "width": null
     }
    },
    "fc02898236c54c4dac9fd3cc954541cb": {
     "model_module": "@jupyter-widgets/controls",
     "model_module_version": "1.5.0",
     "model_name": "DescriptionStyleModel",
     "state": {
      "_model_module": "@jupyter-widgets/controls",
      "_model_module_version": "1.5.0",
      "_model_name": "DescriptionStyleModel",
      "_view_count": null,
      "_view_module": "@jupyter-widgets/base",
      "_view_module_version": "1.2.0",
      "_view_name": "StyleView",
      "description_width": ""
     }
    }
   }
  }
 },
 "nbformat": 4,
 "nbformat_minor": 1
}
